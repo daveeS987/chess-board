{
 "cells": [
  {
   "cell_type": "code",
   "execution_count": 27,
   "source": [
    "import numpy as np\n",
    "import matplotlib.pyplot as plt"
   ],
   "outputs": [],
   "metadata": {}
  },
  {
   "cell_type": "code",
   "execution_count": 57,
   "source": [
    "class Board:\n",
    "    def __init__(self):\n",
    "        self.grid = np.zeros((8,8,3))\n",
    "        self.grid[1::2, ::2] = 1\n",
    "        self.grid[::2, 1::2] = 1\n",
    "\n",
    "    def add_red(self, row, col):\n",
    "        self.grid[row][col] = (1,0,0)\n",
    "\n",
    "    def add_blue(self, row, col):\n",
    "        self.grid[row][col] = (0,0,1)\n",
    "\n",
    "    def render(self):\n",
    "        plt.imshow(self.grid)\n",
    "        \n",
    "\n",
    "    def is_under_attack(self):\n",
    "        pass"
   ],
   "outputs": [],
   "metadata": {}
  },
  {
   "cell_type": "code",
   "execution_count": 59,
   "source": [
    "trial = Board()\n",
    "trial.add_red(0,3)\n",
    "trial.add_blue(7,4)\n",
    "trial.render()\n"
   ],
   "outputs": [
    {
     "output_type": "display_data",
     "data": {
      "text/plain": [
       "<Figure size 432x288 with 1 Axes>"
      ],
      "image/png": "[encoded data removed]"
     },
     "metadata": {
      "needs_background": "light"
     }
    }
   ],
   "metadata": {}
  }
 ],
 "metadata": {
  "orig_nbformat": 4,
  "language_info": {
   "name": "python"
  }
 },
 "nbformat": 4,
 "nbformat_minor": 2
}