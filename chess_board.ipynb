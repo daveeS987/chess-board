{
 "cells": [
  {
   "cell_type": "code",
   "execution_count": 75,
   "source": [
    "import numpy as np\n",
    "import matplotlib.pyplot as plt"
   ],
   "outputs": [],
   "metadata": {}
  },
  {
   "cell_type": "code",
   "execution_count": 78,
   "source": [
    "class Board:\n",
    "    def __init__(self):\n",
    "        self.grid = np.zeros((8,8,3))\n",
    "        self.grid[1::2, ::2] = 1\n",
    "        self.grid[::2, 1::2] = 1\n",
    "        self.blue_row = None\n",
    "        self.blue_column = None\n",
    "        self.red_row = None\n",
    "        self.red_column = None\n",
    "\n",
    "    def add_red(self, row, col):\n",
    "        self.red_row = row\n",
    "        self.red_column = col\n",
    "        self.grid[row][col] = (1,0,0)\n",
    "\n",
    "    def add_blue(self, row, col):\n",
    "        self.blue_row = row\n",
    "        self.blue_column = col\n",
    "        self.grid[row][col] = (0,0,1)\n",
    "\n",
    "    def render(self):\n",
    "        plt.imshow(self.grid)\n",
    "        \n",
    "\n",
    "    def is_under_attack(self):\n",
    "        if self.blue_row == self.red_row or self.blue_column == self.red_column:\n",
    "            return True\n",
    "\n",
    "        if abs(self.red_column - self.blue_column) == abs(self.red_row - self.blue_row):\n",
    "            return True\n",
    "        \n",
    "        return False\n",
    "\n"
   ],
   "outputs": [],
   "metadata": {}
  },
  {
   "cell_type": "code",
   "execution_count": 83,
   "source": [
    "board1 = Board()\n",
    "board1.add_red(4,2)\n",
    "board1.add_blue(7,4)\n",
    "board1.render()\n",
    "print(board1.is_under_attack())\n",
    "\n"
   ],
   "outputs": [
    {
     "output_type": "stream",
     "name": "stdout",
     "text": [
      "False\n"
     ]
    },
    {
     "output_type": "display_data",
     "data": {
      "text/plain": [
       "<Figure size 432x288 with 1 Axes>"
      ],
      "image/png": "[encoded data removed]"
     },
     "metadata": {
      "needs_background": "light"
     }
    }
   ],
   "metadata": {}
  },
  {
   "cell_type": "code",
   "execution_count": 86,
   "source": [
    "# queens on same row should be “under attack”\n",
    "board1.add_red(6,2)\n",
    "board1.add_blue(6,4)\n",
    "assert board1.is_under_attack()\n",
    "print('********* UNDER ATTACK ********')"
   ],
   "outputs": [
    {
     "output_type": "stream",
     "name": "stdout",
     "text": [
      "********* UNDER ATTACK ********\n"
     ]
    }
   ],
   "metadata": {}
  },
  {
   "cell_type": "code",
   "execution_count": 87,
   "source": [
    "# queens on same column should be “under attack”\n",
    "board1.add_red(1,4)\n",
    "board1.add_blue(6,4)\n",
    "assert board1.is_under_attack()\n",
    "print('********* UNDER ATTACK ********')"
   ],
   "outputs": [
    {
     "output_type": "stream",
     "name": "stdout",
     "text": [
      "********* UNDER ATTACK ********\n"
     ]
    }
   ],
   "metadata": {}
  },
  {
   "cell_type": "code",
   "execution_count": 88,
   "source": [
    "# queens on same diagonal should be “under attack”\n",
    "board1.add_red(1,4)\n",
    "board1.add_blue(4,1)\n",
    "assert board1.is_under_attack()\n",
    "print('********* UNDER ATTACK ********')"
   ],
   "outputs": [
    {
     "output_type": "stream",
     "name": "stdout",
     "text": [
      "********* UNDER ATTACK ********\n"
     ]
    }
   ],
   "metadata": {}
  },
  {
   "cell_type": "code",
   "execution_count": 90,
   "source": [
    "# queens with any other coordinates should NOT be “under attack”\n",
    "board1.add_red(2,5)\n",
    "board1.add_blue(3,7)\n",
    "assert not board1.is_under_attack()\n",
    "print('********* NOT UNDER ATTACK ********')"
   ],
   "outputs": [
    {
     "output_type": "stream",
     "name": "stdout",
     "text": [
      "********* NOT UNDER ATTACK ********\n"
     ]
    }
   ],
   "metadata": {}
  }
 ],
 "metadata": {
  "orig_nbformat": 4,
  "language_info": {
   "name": "python"
  }
 },
 "nbformat": 4,
 "nbformat_minor": 2
}