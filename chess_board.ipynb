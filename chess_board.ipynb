{
 "cells": [
  {
   "cell_type": "code",
   "execution_count": 75,
   "source": [
    "import numpy as np\n",
    "import matplotlib.pyplot as plt"
   ],
   "outputs": [],
   "metadata": {}
  },
  {
   "cell_type": "code",
   "execution_count": 76,
   "source": [
    "class Board:\n",
    "    def __init__(self):\n",
    "        self.grid = np.zeros((8,8,3))\n",
    "        self.grid[1::2, ::2] = 1\n",
    "        self.grid[::2, 1::2] = 1\n",
    "        self.blue_row = None\n",
    "        self.blue_column = None\n",
    "        self.red_row = None\n",
    "        self.red_column = None\n",
    "\n",
    "    def add_red(self, row, col):\n",
    "        self.red_row = row\n",
    "        self.red_column = col\n",
    "        self.grid[row][col] = (1,0,0)\n",
    "\n",
    "    def add_blue(self, row, col):\n",
    "        self.blue_row = row\n",
    "        self.blue_column = col\n",
    "        self.grid[row][col] = (0,0,1)\n",
    "\n",
    "    def render(self):\n",
    "        plt.imshow(self.grid)\n",
    "        \n",
    "\n",
    "    def is_under_attack(self):\n",
    "        if self.blue_row == self.red_row or self.blue_column == self.red_column:\n",
    "            return True\n",
    "\n",
    "        if abs(self.red_column - self.blue_column) == abs(self.red_row - self.blue_row):\n",
    "            return True\n",
    "        \n",
    "        return False\n",
    "\n"
   ],
   "outputs": [],
   "metadata": {}
  },
  {
   "cell_type": "code",
   "execution_count": 77,
   "source": [
    "trial = Board()\n",
    "trial.add_red(4,7)\n",
    "trial.add_blue(7,4)\n",
    "trial.render()\n",
    "print(trial.is_under_attack())\n",
    "\n"
   ],
   "outputs": [
    {
     "output_type": "stream",
     "name": "stdout",
     "text": [
      "None\n"
     ]
    },
    {
     "output_type": "display_data",
     "data": {
      "text/plain": [
       "<Figure size 432x288 with 1 Axes>"
      ],
      "image/png": "[encoded data removed]"
     },
     "metadata": {
      "needs_background": "light"
     }
    }
   ],
   "metadata": {}
  }
 ],
 "metadata": {
  "orig_nbformat": 4,
  "language_info": {
   "name": "python"
  }
 },
 "nbformat": 4,
 "nbformat_minor": 2
}